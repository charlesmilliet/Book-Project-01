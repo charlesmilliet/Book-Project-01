{
 "cells": [
  {
   "cell_type": "code",
   "execution_count": null,
   "metadata": {},
   "outputs": [],
   "source": [
    "data = open(\"NYT_bestseller.txt\")      "
   ]
  },
  {
   "cell_type": "code",
   "execution_count": null,
   "metadata": {},
   "outputs": [],
   "source": [
    "count = 0\n",
    "for line in data: \n",
    "    count += 1\n",
    "    print(line)\n",
    "    if count >= 10:\n",
    "        break"
   ]
  },
  {
   "cell_type": "code",
   "execution_count": null,
   "metadata": {},
   "outputs": [],
   "source": [
    "# Data transformation\n",
    "count = 0\n",
    "all_list = []\n",
    "for line in data:\n",
    "    line_list = line.split(\",\")\n",
    "    all_list.append(line_list)\n",
    "    count += 1\n",
    "    if count >= 10:\n",
    "        break"
   ]
  },
  {
   "cell_type": "code",
   "execution_count": null,
   "metadata": {},
   "outputs": [],
   "source": [
    "print(all_list)"
   ]
  },
  {
   "cell_type": "code",
   "execution_count": null,
   "metadata": {},
   "outputs": [],
   "source": [
    "print(all_list[2][0])"
   ]
  },
  {
   "cell_type": "code",
   "execution_count": null,
   "metadata": {},
   "outputs": [],
   "source": [
    "# Check if transformation worked\n",
    "print(type(all_list[1]))"
   ]
  },
  {
   "cell_type": "code",
   "execution_count": null,
   "metadata": {},
   "outputs": [],
   "source": [
    "### Title search function\n",
    "# Allows the user to search books based on their titles\n",
    "# Define the function\n",
    "def search_by_title(list):\n",
    "# Request user input (title to look for)\n",
    "    print(\"Please enter the book title you want to search for.\")\n",
    "    search = input(\"Title: \")\n",
    "# Loop through all books \n",
    "    for book in list:\n",
    "# Check if the search term fits with a book title and ignore capitalisation\n",
    "        if search.lower() in book[0].lower():\n",
    "# If there is a match, book title, author, release date, and rating are provided to the user\n",
    "            print(book[0],\", by\",book[1],\"(\",book[2],\")\",\", rated\",book[4],\".\")#adjust numbers or give column names\n",
    "# If there is no match, this is communicated to the user\n",
    "        else:\n",
    "            print(\"No book fits your search criteria.\")\n",
    "# The user is then given the option to try again\n",
    "            again = input(\"Do you want to try again?(Yes or no): \")\n",
    "# If the user wants to try again .... (again ignoring capitalisation)\n",
    "            if again.lower = \"yes\":\n",
    "                #...\n",
    "                print(\"wip\")\n",
    "# If not then ... go back to menu? quit directly?\n",
    "            else:\n",
    "                #...\n",
    "                print(\"wip\")"
   ]
  },
  {
   "cell_type": "code",
   "execution_count": null,
   "metadata": {},
   "outputs": [],
   "source": [
    "### Run the function\n",
    "search_by_title(full_list)"
   ]
  },
  {
   "cell_type": "code",
   "execution_count": null,
   "metadata": {},
   "outputs": [],
   "source": [
    "### Author search function\n",
    "# Allows the user to search books based on their authors\n",
    "# Define the function\n",
    "def search_by_author(list):\n",
    "# Request user input (author to look for)\n",
    "    print(\"Please enter the author name you want to search for.\")\n",
    "    search = input(\"Author: \")\n",
    "# Loop through all books \n",
    "    for book in list:\n",
    "# Check if the search term fits with a book title and ignore capitalisation\n",
    "        if search.lower() in book[0].lower():\n",
    "# If there is a match, book title, author, release date, and rating are provided to the user\n",
    "            print(book[0],\", by\",book[1],\"(\",book[2],\")\",\", rated\",book[4],\".\")#adjust numbers or give column names\n",
    "# If there is no match, this is communicated to the user\n",
    "        else:\n",
    "            print(\"No book fits your search criteria.\")\n",
    "# The user is then given the option to try again\n",
    "            again = input(\"Do you want to try again?(Yes or no): \")\n",
    "# If the user wants to try again .... (again ignoring capitalisation)\n",
    "            if again.lower = \"yes\":\n",
    "                #...\n",
    "                print(\"wip\")\n",
    "# If not then ... go back to menu? quit directly?\n",
    "            else:\n",
    "                #...\n",
    "                print(\"wip\")"
   ]
  },
  {
   "cell_type": "code",
   "execution_count": null,
   "metadata": {},
   "outputs": [],
   "source": [
    "### Run the function\n",
    "search_by_author(full_list)"
   ]
  },
  {
   "cell_type": "code",
   "execution_count": 13,
   "metadata": {},
   "outputs": [
    {
     "ename": "IndentationError",
     "evalue": "expected an indented block (<ipython-input-13-16724b4b58b6>, line 14)",
     "output_type": "error",
     "traceback": [
      "\u001b[1;36m  File \u001b[1;32m\"<ipython-input-13-16724b4b58b6>\"\u001b[1;36m, line \u001b[1;32m14\u001b[0m\n\u001b[1;33m    elif question_type == 2:\u001b[0m\n\u001b[1;37m       ^\u001b[0m\n\u001b[1;31mIndentationError\u001b[0m\u001b[1;31m:\u001b[0m expected an indented block\n"
     ]
    }
   ],
   "source": [
    "### Game (should probably also do it as function)\n",
    "# get random \n",
    "import random\n",
    "# Welcome message\n",
    "print(\"Welcome to the book quiz!\")\n",
    "# Score of the player\n",
    "score = 0\n",
    "# While loop for every round of the quiz\n",
    "while True:\n",
    "# Selection which type of question will be asked (author, year etc.) at random \n",
    "    question_type = random.randint(1,4)\n",
    "# Depending on the selection a different if statement is fulfilled    \n",
    "    if question_type == 1:\n",
    "# A book is selected at random to quiz the user on\n",
    "        book = random.randint(1,len(data))\n",
    "# The correct solution is extracted from the data based on chosen book and question type    \n",
    "        solution = data[book][question_type]\n",
    "# Three random books are chosen for wrong answer options, we make sure they are all different from each other and the solution (issue here!!!)\n",
    "        wrong_position_1 = random.choice([i for i in range(1,len(data)) if i not in [book]])\n",
    "        wrong_1 = data[wrong_position_1][question_type]\n",
    "        wrong_position_2 = random.choice([i for i in range(1,len(data)) if i not in [book,wrong_position_1]])\n",
    "        wrong_2 = data[wrong_position_2][question_type]\n",
    "        wrong_position_3 = random.choice([i for i in range(1,len(data)) if i not in [book,wrong_position_1,wrong_position_2]])\n",
    "        wrong_3 = data[wrong_position_3][question_type]\n",
    "# We create a list, add all answer options and then suffle them around         \n",
    "        options = []\n",
    "        options.append(data[book][question_type])\n",
    "        options.append(data[wrong_position_1][question_type])\n",
    "        options.append(data[wrong_position_2][question_type])\n",
    "        options.append(data[wrong_position_3][question_type])\n",
    "        random.shuffle(options)\n",
    "# Question and four answer options are presented to the user, one can be selected\n",
    "        answer = input(\"Who is the author of\", data[book][title], \"\\n1:\", options[0], \"\\n2:\", options[1], \"\\n3:\", options[2], \"\\n4:\",options[3], \"\\nEnter 1, 2, 3, or 4.\")\n",
    "# If selected answer options matches the solution, 10 points are added to the score and the user is informed, while loop should run again       \n",
    "        if options[answer-1] == solution:\n",
    "            score += 10\n",
    "            print(\"Correct answer. Your score is\", score)\n",
    "# If selected answer option does not match the solution, the user is informed and the loops breaks (the game is over)       \n",
    "        else:\n",
    "            print(\"Wrong answer. Your score is\", score)\n",
    "            break\n",
    "    elif question_type == 2: \n",
    "        \n",
    "    elif question_type == 3:\n",
    "        \n",
    "    else:\n",
    "        \n",
    "# Ask if user wants to continue\n",
    "another_round = input(\"Do you want to play another round? (Yes/No)\")        \n",
    "# Should then rerun whole thing again if yes (account for upper as well)     \n"
   ]
  }
 ],
 "metadata": {
  "kernelspec": {
   "display_name": "Python 3",
   "language": "python",
   "name": "python3"
  },
  "language_info": {
   "codemirror_mode": {
    "name": "ipython",
    "version": 3
   },
   "file_extension": ".py",
   "mimetype": "text/x-python",
   "name": "python",
   "nbconvert_exporter": "python",
   "pygments_lexer": "ipython3",
   "version": "3.8.5"
  }
 },
 "nbformat": 4,
 "nbformat_minor": 2
}
