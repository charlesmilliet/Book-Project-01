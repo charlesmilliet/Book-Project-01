{
 "cells": [
  {
   "cell_type": "code",
   "execution_count": 2,
   "metadata": {},
   "outputs": [],
   "source": [
    "data=open('NYT_bestseller.csv')"
   ]
  },
  {
   "cell_type": "code",
   "execution_count": 3,
   "metadata": {},
   "outputs": [],
   "source": [
    "count=0\n",
    "all_list=[]\n",
    "for line in data:\n",
    "  line_list=line.split(',')\n",
    "  all_list.append(line_list)\n",
    "  count+=1\n",
    "  if count >10:\n",
    "    break"
   ]
  },
  {
   "cell_type": "code",
   "execution_count": 4,
   "metadata": {},
   "outputs": [
    {
     "data": {
      "text/plain": [
       "['published_date',\n",
       " 'list_name',\n",
       " 'list_name_encoded',\n",
       " 'rank',\n",
       " 'isbn13',\n",
       " 'isbn10',\n",
       " 'title',\n",
       " 'author',\n",
       " 'description',\n",
       " 'amazon_product_url',\n",
       " 'price',\n",
       " 'weeks_on_list\\n']"
      ]
     },
     "execution_count": 4,
     "metadata": {},
     "output_type": "execute_result"
    }
   ],
   "source": [
    "all_list.pop(0)"
   ]
  },
  {
   "cell_type": "code",
   "execution_count": 5,
   "metadata": {},
   "outputs": [
    {
     "name": "stdout",
     "output_type": "stream",
     "text": [
      "<class 'float'>\n"
     ]
    }
   ],
   "source": [
    "for book in all_list:\n",
    "  book[11]=float(book[11])\n",
    "\n",
    "for book in all_list:\n",
    "  book[10]=float(book[10])\n",
    "\n",
    "print(type(all_list[5][10]))"
   ]
  },
  {
   "cell_type": "code",
   "execution_count": 6,
   "metadata": {},
   "outputs": [],
   "source": [
    "def weeksonlist(list):\n",
    "  input1=input(print('Would you like to display books which have been on the bestseller list for a number of weeks between two numbers? Please type yes/no'))\n",
    "  if input1=='no':\n",
    "    choice=input(print('Do you want to display books which have been on the list for longer or shorter than x weeks? Please type longer/shorter: '))\n",
    "    number=int(input(print('Please enter the threshold: ')))\n",
    "    if choice=='longer':\n",
    "      for book in list:\n",
    "        if book[11]>number:\n",
    "          print('The following books have been on the bestseller list for more than x weeks:')\n",
    "          print(book)\n",
    "    else:\n",
    "      for book in list:\n",
    "        if book[11]<number:\n",
    "          print('The following books have been on the bestseller list for less than x weeks:')\n",
    "          print(book)\n",
    "  else: \n",
    "    minimum=int(input(print('Please state the min after: ')))\n",
    "    maximum=int(input(print('please state max: ')))\n",
    "    print('The following books have been on the bestseller list between {0} and {1} weeks:'.format(minimum,maximum))\n",
    "    for book in list:\n",
    "     if book[11]<=maximum and book[11]>=minimum:\n",
    "        print(book)"
   ]
  },
  {
   "cell_type": "code",
   "execution_count": 7,
   "metadata": {},
   "outputs": [],
   "source": [
    "def pricerange(list):\n",
    "  input1=float(input(print('Please tell us the maximum price you would like to pay for your book.:')))\n",
    "  for book in list:\n",
    "    if book[10]<input1:\n",
    "      print('The following books are below your price threshold:')\n",
    "      print(book)"
   ]
  },
  {
   "cell_type": "code",
   "execution_count": null,
   "metadata": {},
   "outputs": [],
   "source": []
  }
 ],
 "metadata": {
  "kernelspec": {
   "display_name": "Python 3",
   "language": "python",
   "name": "python3"
  },
  "language_info": {
   "codemirror_mode": {
    "name": "ipython",
    "version": 3
   },
   "file_extension": ".py",
   "mimetype": "text/x-python",
   "name": "python",
   "nbconvert_exporter": "python",
   "pygments_lexer": "ipython3",
   "version": "3.8.5"
  }
 },
 "nbformat": 4,
 "nbformat_minor": 4
}
